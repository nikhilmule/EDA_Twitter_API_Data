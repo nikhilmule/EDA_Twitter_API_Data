{
 "cells": [
  {
   "cell_type": "code",
   "execution_count": 160,
   "metadata": {},
   "outputs": [
    {
     "name": "stdout",
     "output_type": "stream",
     "text": [
      "Requirement already satisfied: twython in d:\\anaconda\\lib\\site-packages (3.9.1)\n",
      "Requirement already satisfied: requests>=2.1.0 in d:\\anaconda\\lib\\site-packages (from twython) (2.25.1)\n",
      "Requirement already satisfied: requests-oauthlib>=0.4.0 in d:\\anaconda\\lib\\site-packages (from twython) (1.3.0)\n",
      "Requirement already satisfied: idna<3,>=2.5 in d:\\anaconda\\lib\\site-packages (from requests>=2.1.0->twython) (2.10)\n",
      "Requirement already satisfied: chardet<5,>=3.0.2 in d:\\anaconda\\lib\\site-packages (from requests>=2.1.0->twython) (4.0.0)\n",
      "Requirement already satisfied: certifi>=2017.4.17 in d:\\anaconda\\lib\\site-packages (from requests>=2.1.0->twython) (2020.12.5)\n",
      "Requirement already satisfied: urllib3<1.27,>=1.21.1 in d:\\anaconda\\lib\\site-packages (from requests>=2.1.0->twython) (1.26.4)\n",
      "Requirement already satisfied: oauthlib>=3.0.0 in d:\\anaconda\\lib\\site-packages (from requests-oauthlib>=0.4.0->twython) (3.1.1)\n"
     ]
    }
   ],
   "source": [
    "!pip install twython"
   ]
  },
  {
   "cell_type": "code",
   "execution_count": 161,
   "metadata": {},
   "outputs": [],
   "source": [
    "from twython import Twython\n",
    "from credentials import *\n",
    "from OAUTH import *\n",
    "twitter = Twython(CONSUMER_KEY, CONSUMER_SECRET_KEY,OAUTH_TOKEN,OAUTH_TOKEN_SECRET)\n",
    "import re"
   ]
  },
  {
   "cell_type": "code",
   "execution_count": 162,
   "metadata": {},
   "outputs": [],
   "source": [
    "results = twitter.cursor(twitter.search,q ='#savetheplanet', lang = 'en', result_type = 'mixed', count = 500, tweet_mode = 'extended')"
   ]
  },
  {
   "cell_type": "code",
   "execution_count": 163,
   "metadata": {},
   "outputs": [],
   "source": [
    "data = []\n",
    "for result in results:\n",
    "    data.append(result)"
   ]
  },
  {
   "cell_type": "code",
   "execution_count": 164,
   "metadata": {},
   "outputs": [],
   "source": [
    "import pandas as pd"
   ]
  },
  {
   "cell_type": "code",
   "execution_count": 165,
   "metadata": {},
   "outputs": [],
   "source": [
    "df = pd.json_normalize(data)"
   ]
  },
  {
   "cell_type": "code",
   "execution_count": 166,
   "metadata": {},
   "outputs": [
    {
     "data": {
      "text/html": [
       "<div>\n",
       "<style scoped>\n",
       "    .dataframe tbody tr th:only-of-type {\n",
       "        vertical-align: middle;\n",
       "    }\n",
       "\n",
       "    .dataframe tbody tr th {\n",
       "        vertical-align: top;\n",
       "    }\n",
       "\n",
       "    .dataframe thead th {\n",
       "        text-align: right;\n",
       "    }\n",
       "</style>\n",
       "<table border=\"1\" class=\"dataframe\">\n",
       "  <thead>\n",
       "    <tr style=\"text-align: right;\">\n",
       "      <th></th>\n",
       "      <th>created_at</th>\n",
       "      <th>id</th>\n",
       "      <th>id_str</th>\n",
       "      <th>full_text</th>\n",
       "      <th>truncated</th>\n",
       "      <th>display_text_range</th>\n",
       "      <th>source</th>\n",
       "      <th>in_reply_to_status_id</th>\n",
       "      <th>in_reply_to_status_id_str</th>\n",
       "      <th>in_reply_to_user_id</th>\n",
       "      <th>...</th>\n",
       "      <th>quoted_status.place.id</th>\n",
       "      <th>quoted_status.place.url</th>\n",
       "      <th>quoted_status.place.place_type</th>\n",
       "      <th>quoted_status.place.name</th>\n",
       "      <th>quoted_status.place.full_name</th>\n",
       "      <th>quoted_status.place.country_code</th>\n",
       "      <th>quoted_status.place.country</th>\n",
       "      <th>quoted_status.place.contained_within</th>\n",
       "      <th>quoted_status.place.bounding_box.type</th>\n",
       "      <th>quoted_status.place.bounding_box.coordinates</th>\n",
       "    </tr>\n",
       "  </thead>\n",
       "  <tbody>\n",
       "    <tr>\n",
       "      <th>0</th>\n",
       "      <td>Wed Nov 24 11:08:47 +0000 2021</td>\n",
       "      <td>1463464609147498507</td>\n",
       "      <td>1463464609147498507</td>\n",
       "      <td>Beautiful 💝💝 #FaisalMasjid #Islamabad but visi...</td>\n",
       "      <td>False</td>\n",
       "      <td>[0, 180]</td>\n",
       "      <td>&lt;a href=\"http://twitter.com/download/android\" ...</td>\n",
       "      <td>NaN</td>\n",
       "      <td>None</td>\n",
       "      <td>NaN</td>\n",
       "      <td>...</td>\n",
       "      <td>NaN</td>\n",
       "      <td>NaN</td>\n",
       "      <td>NaN</td>\n",
       "      <td>NaN</td>\n",
       "      <td>NaN</td>\n",
       "      <td>NaN</td>\n",
       "      <td>NaN</td>\n",
       "      <td>NaN</td>\n",
       "      <td>NaN</td>\n",
       "      <td>NaN</td>\n",
       "    </tr>\n",
       "    <tr>\n",
       "      <th>1</th>\n",
       "      <td>Sun Nov 28 18:41:24 +0000 2021</td>\n",
       "      <td>1465028067705999360</td>\n",
       "      <td>1465028067705999360</td>\n",
       "      <td>RT @ClubTrp: O dear humans! We are on the brin...</td>\n",
       "      <td>False</td>\n",
       "      <td>[0, 140]</td>\n",
       "      <td>&lt;a href=\"https://mobile.twitter.com\" rel=\"nofo...</td>\n",
       "      <td>NaN</td>\n",
       "      <td>None</td>\n",
       "      <td>NaN</td>\n",
       "      <td>...</td>\n",
       "      <td>NaN</td>\n",
       "      <td>NaN</td>\n",
       "      <td>NaN</td>\n",
       "      <td>NaN</td>\n",
       "      <td>NaN</td>\n",
       "      <td>NaN</td>\n",
       "      <td>NaN</td>\n",
       "      <td>NaN</td>\n",
       "      <td>NaN</td>\n",
       "      <td>NaN</td>\n",
       "    </tr>\n",
       "  </tbody>\n",
       "</table>\n",
       "<p>2 rows × 362 columns</p>\n",
       "</div>"
      ],
      "text/plain": [
       "                       created_at                   id               id_str  \\\n",
       "0  Wed Nov 24 11:08:47 +0000 2021  1463464609147498507  1463464609147498507   \n",
       "1  Sun Nov 28 18:41:24 +0000 2021  1465028067705999360  1465028067705999360   \n",
       "\n",
       "                                           full_text  truncated  \\\n",
       "0  Beautiful 💝💝 #FaisalMasjid #Islamabad but visi...      False   \n",
       "1  RT @ClubTrp: O dear humans! We are on the brin...      False   \n",
       "\n",
       "  display_text_range                                             source  \\\n",
       "0           [0, 180]  <a href=\"http://twitter.com/download/android\" ...   \n",
       "1           [0, 140]  <a href=\"https://mobile.twitter.com\" rel=\"nofo...   \n",
       "\n",
       "   in_reply_to_status_id in_reply_to_status_id_str  in_reply_to_user_id  ...  \\\n",
       "0                    NaN                      None                  NaN  ...   \n",
       "1                    NaN                      None                  NaN  ...   \n",
       "\n",
       "  quoted_status.place.id quoted_status.place.url  \\\n",
       "0                    NaN                     NaN   \n",
       "1                    NaN                     NaN   \n",
       "\n",
       "   quoted_status.place.place_type  quoted_status.place.name  \\\n",
       "0                             NaN                       NaN   \n",
       "1                             NaN                       NaN   \n",
       "\n",
       "   quoted_status.place.full_name quoted_status.place.country_code  \\\n",
       "0                            NaN                              NaN   \n",
       "1                            NaN                              NaN   \n",
       "\n",
       "   quoted_status.place.country  quoted_status.place.contained_within  \\\n",
       "0                          NaN                                   NaN   \n",
       "1                          NaN                                   NaN   \n",
       "\n",
       "   quoted_status.place.bounding_box.type  \\\n",
       "0                                    NaN   \n",
       "1                                    NaN   \n",
       "\n",
       "   quoted_status.place.bounding_box.coordinates  \n",
       "0                                           NaN  \n",
       "1                                           NaN  \n",
       "\n",
       "[2 rows x 362 columns]"
      ]
     },
     "execution_count": 166,
     "metadata": {},
     "output_type": "execute_result"
    }
   ],
   "source": [
    "df.head(2)"
   ]
  },
  {
   "cell_type": "code",
   "execution_count": 167,
   "metadata": {},
   "outputs": [],
   "source": [
    "df1 = df.iloc[:, [0, 1,3,6,35,41,42,45]]"
   ]
  },
  {
   "cell_type": "code",
   "execution_count": 168,
   "metadata": {},
   "outputs": [
    {
     "name": "stderr",
     "output_type": "stream",
     "text": [
      "<ipython-input-168-1b26ef118de4>:1: SettingWithCopyWarning: \n",
      "A value is trying to be set on a copy of a slice from a DataFrame.\n",
      "Try using .loc[row_indexer,col_indexer] = value instead\n",
      "\n",
      "See the caveats in the documentation: https://pandas.pydata.org/pandas-docs/stable/user_guide/indexing.html#returning-a-view-versus-a-copy\n",
      "  df1['created_at'] = pd.to_datetime(df1['created_at'])\n"
     ]
    },
    {
     "data": {
      "text/html": [
       "<div>\n",
       "<style scoped>\n",
       "    .dataframe tbody tr th:only-of-type {\n",
       "        vertical-align: middle;\n",
       "    }\n",
       "\n",
       "    .dataframe tbody tr th {\n",
       "        vertical-align: top;\n",
       "    }\n",
       "\n",
       "    .dataframe thead th {\n",
       "        text-align: right;\n",
       "    }\n",
       "</style>\n",
       "<table border=\"1\" class=\"dataframe\">\n",
       "  <thead>\n",
       "    <tr style=\"text-align: right;\">\n",
       "      <th></th>\n",
       "      <th>created_at</th>\n",
       "      <th>id</th>\n",
       "      <th>full_text</th>\n",
       "      <th>source</th>\n",
       "      <th>user.location</th>\n",
       "      <th>user.followers_count</th>\n",
       "      <th>user.friends_count</th>\n",
       "      <th>user.favourites_count</th>\n",
       "    </tr>\n",
       "  </thead>\n",
       "  <tbody>\n",
       "    <tr>\n",
       "      <th>0</th>\n",
       "      <td>2021-11-24 11:08:47+00:00</td>\n",
       "      <td>1463464609147498507</td>\n",
       "      <td>Beautiful 💝💝 #FaisalMasjid #Islamabad but visi...</td>\n",
       "      <td>&lt;a href=\"http://twitter.com/download/android\" ...</td>\n",
       "      <td>Islamabad, Pakistan</td>\n",
       "      <td>77752</td>\n",
       "      <td>2147</td>\n",
       "      <td>118675</td>\n",
       "    </tr>\n",
       "    <tr>\n",
       "      <th>1</th>\n",
       "      <td>2021-11-28 18:41:24+00:00</td>\n",
       "      <td>1465028067705999360</td>\n",
       "      <td>RT @ClubTrp: O dear humans! We are on the brin...</td>\n",
       "      <td>&lt;a href=\"https://mobile.twitter.com\" rel=\"nofo...</td>\n",
       "      <td>Climate Live</td>\n",
       "      <td>246</td>\n",
       "      <td>281</td>\n",
       "      <td>2502</td>\n",
       "    </tr>\n",
       "  </tbody>\n",
       "</table>\n",
       "</div>"
      ],
      "text/plain": [
       "                 created_at                   id  \\\n",
       "0 2021-11-24 11:08:47+00:00  1463464609147498507   \n",
       "1 2021-11-28 18:41:24+00:00  1465028067705999360   \n",
       "\n",
       "                                           full_text  \\\n",
       "0  Beautiful 💝💝 #FaisalMasjid #Islamabad but visi...   \n",
       "1  RT @ClubTrp: O dear humans! We are on the brin...   \n",
       "\n",
       "                                              source        user.location  \\\n",
       "0  <a href=\"http://twitter.com/download/android\" ...  Islamabad, Pakistan   \n",
       "1  <a href=\"https://mobile.twitter.com\" rel=\"nofo...         Climate Live   \n",
       "\n",
       "   user.followers_count  user.friends_count  user.favourites_count  \n",
       "0                 77752                2147                 118675  \n",
       "1                   246                 281                   2502  "
      ]
     },
     "execution_count": 168,
     "metadata": {},
     "output_type": "execute_result"
    }
   ],
   "source": [
    "df1['created_at'] = pd.to_datetime(df1['created_at'])\n",
    "df1.head(2)"
   ]
  },
  {
   "cell_type": "code",
   "execution_count": 169,
   "metadata": {},
   "outputs": [],
   "source": [
    "df1.columns = ['created_at', 'user_id', 'tweet', 'device_type', 'location', 'followers_count', 'friends_count', 'favourites_count']"
   ]
  },
  {
   "cell_type": "code",
   "execution_count": 170,
   "metadata": {},
   "outputs": [
    {
     "data": {
      "text/html": [
       "<div>\n",
       "<style scoped>\n",
       "    .dataframe tbody tr th:only-of-type {\n",
       "        vertical-align: middle;\n",
       "    }\n",
       "\n",
       "    .dataframe tbody tr th {\n",
       "        vertical-align: top;\n",
       "    }\n",
       "\n",
       "    .dataframe thead th {\n",
       "        text-align: right;\n",
       "    }\n",
       "</style>\n",
       "<table border=\"1\" class=\"dataframe\">\n",
       "  <thead>\n",
       "    <tr style=\"text-align: right;\">\n",
       "      <th></th>\n",
       "      <th>created_at</th>\n",
       "      <th>user_id</th>\n",
       "      <th>tweet</th>\n",
       "      <th>device_type</th>\n",
       "      <th>location</th>\n",
       "      <th>followers_count</th>\n",
       "      <th>friends_count</th>\n",
       "      <th>favourites_count</th>\n",
       "    </tr>\n",
       "  </thead>\n",
       "  <tbody>\n",
       "    <tr>\n",
       "      <th>0</th>\n",
       "      <td>2021-11-24 11:08:47+00:00</td>\n",
       "      <td>1463464609147498507</td>\n",
       "      <td>Beautiful 💝💝 #FaisalMasjid #Islamabad but visi...</td>\n",
       "      <td>&lt;a href=\"http://twitter.com/download/android\" ...</td>\n",
       "      <td>Islamabad, Pakistan</td>\n",
       "      <td>77752</td>\n",
       "      <td>2147</td>\n",
       "      <td>118675</td>\n",
       "    </tr>\n",
       "    <tr>\n",
       "      <th>1</th>\n",
       "      <td>2021-11-28 18:41:24+00:00</td>\n",
       "      <td>1465028067705999360</td>\n",
       "      <td>RT @ClubTrp: O dear humans! We are on the brin...</td>\n",
       "      <td>&lt;a href=\"https://mobile.twitter.com\" rel=\"nofo...</td>\n",
       "      <td>Climate Live</td>\n",
       "      <td>246</td>\n",
       "      <td>281</td>\n",
       "      <td>2502</td>\n",
       "    </tr>\n",
       "  </tbody>\n",
       "</table>\n",
       "</div>"
      ],
      "text/plain": [
       "                 created_at              user_id  \\\n",
       "0 2021-11-24 11:08:47+00:00  1463464609147498507   \n",
       "1 2021-11-28 18:41:24+00:00  1465028067705999360   \n",
       "\n",
       "                                               tweet  \\\n",
       "0  Beautiful 💝💝 #FaisalMasjid #Islamabad but visi...   \n",
       "1  RT @ClubTrp: O dear humans! We are on the brin...   \n",
       "\n",
       "                                         device_type             location  \\\n",
       "0  <a href=\"http://twitter.com/download/android\" ...  Islamabad, Pakistan   \n",
       "1  <a href=\"https://mobile.twitter.com\" rel=\"nofo...         Climate Live   \n",
       "\n",
       "   followers_count  friends_count  favourites_count  \n",
       "0            77752           2147            118675  \n",
       "1              246            281              2502  "
      ]
     },
     "execution_count": 170,
     "metadata": {},
     "output_type": "execute_result"
    }
   ],
   "source": [
    "df1.head(2)"
   ]
  },
  {
   "cell_type": "code",
   "execution_count": 171,
   "metadata": {},
   "outputs": [
    {
     "data": {
      "text/plain": [
       "'<a href=\"http://twitter.com/download/android\" rel=\"nofollow\">Twitter for Android</a>'"
      ]
     },
     "execution_count": 171,
     "metadata": {},
     "output_type": "execute_result"
    }
   ],
   "source": [
    "df1['device_type'][0]"
   ]
  },
  {
   "cell_type": "code",
   "execution_count": 172,
   "metadata": {},
   "outputs": [
    {
     "name": "stderr",
     "output_type": "stream",
     "text": [
      "<ipython-input-172-360baa7a0ee2>:1: SettingWithCopyWarning: \n",
      "A value is trying to be set on a copy of a slice from a DataFrame.\n",
      "Try using .loc[row_indexer,col_indexer] = value instead\n",
      "\n",
      "See the caveats in the documentation: https://pandas.pydata.org/pandas-docs/stable/user_guide/indexing.html#returning-a-view-versus-a-copy\n",
      "  df1['device_type']= df1['device_type'].str.extract(r'(\\w+\\s\\w+\\s\\w+)')\n"
     ]
    }
   ],
   "source": [
    "df1['device_type']= df1['device_type'].str.extract(r'(\\w+\\s\\w+\\s\\w+)')"
   ]
  },
  {
   "cell_type": "code",
   "execution_count": 173,
   "metadata": {},
   "outputs": [
    {
     "name": "stderr",
     "output_type": "stream",
     "text": [
      "<ipython-input-173-8e47cf1646bd>:1: SettingWithCopyWarning: \n",
      "A value is trying to be set on a copy of a slice from a DataFrame.\n",
      "Try using .loc[row_indexer,col_indexer] = value instead\n",
      "\n",
      "See the caveats in the documentation: https://pandas.pydata.org/pandas-docs/stable/user_guide/indexing.html#returning-a-view-versus-a-copy\n",
      "  df1['device_type'] = df1['device_type'].str.extract(r'(A\\w+|iP\\w+|W\\w+ A\\w+|Mac|Bot|bot)')\n"
     ]
    }
   ],
   "source": [
    "df1['device_type'] = df1['device_type'].str.extract(r'(A\\w+|iP\\w+|W\\w+ A\\w+|Mac|Bot|bot)')"
   ]
  },
  {
   "cell_type": "code",
   "execution_count": 176,
   "metadata": {},
   "outputs": [
    {
     "name": "stderr",
     "output_type": "stream",
     "text": [
      "<ipython-input-176-d3eb7791ed34>:1: SettingWithCopyWarning: \n",
      "A value is trying to be set on a copy of a slice from a DataFrame.\n",
      "Try using .loc[row_indexer,col_indexer] = value instead\n",
      "\n",
      "See the caveats in the documentation: https://pandas.pydata.org/pandas-docs/stable/user_guide/indexing.html#returning-a-view-versus-a-copy\n",
      "  df1['device_type'] = df1['device_type'].str.replace('bot', 'Bot')\n"
     ]
    }
   ],
   "source": [
    "df1['device_type'] = df1['device_type'].str.replace('bot', 'Bot')"
   ]
  },
  {
   "cell_type": "code",
   "execution_count": 178,
   "metadata": {},
   "outputs": [
    {
     "name": "stderr",
     "output_type": "stream",
     "text": [
      "<ipython-input-178-f628ddabf5bf>:1: SettingWithCopyWarning: \n",
      "A value is trying to be set on a copy of a slice from a DataFrame.\n",
      "Try using .loc[row_indexer,col_indexer] = value instead\n",
      "\n",
      "See the caveats in the documentation: https://pandas.pydata.org/pandas-docs/stable/user_guide/indexing.html#returning-a-view-versus-a-copy\n",
      "  df1['Analysis'] = df1['tweet']\n"
     ]
    }
   ],
   "source": [
    "df1['Analysis'] = df1['tweet']"
   ]
  },
  {
   "cell_type": "code",
   "execution_count": 183,
   "metadata": {},
   "outputs": [
    {
     "data": {
      "text/plain": [
       "'Beautiful 💝💝 #FaisalMasjid #Islamabad but visitors are ruining its beauty with throwing trash everywhere...\\n\\n#environmentawareness #savetheplanet #StopLittering #KeepIslamabadClean https://t.co/tsG6tiT77i'"
      ]
     },
     "execution_count": 183,
     "metadata": {},
     "output_type": "execute_result"
    }
   ],
   "source": [
    "df1['Analysis'][0]"
   ]
  },
  {
   "cell_type": "code",
   "execution_count": 186,
   "metadata": {},
   "outputs": [
    {
     "name": "stderr",
     "output_type": "stream",
     "text": [
      "<ipython-input-186-5400851e40eb>:1: SettingWithCopyWarning: \n",
      "A value is trying to be set on a copy of a slice from a DataFrame.\n",
      "Try using .loc[row_indexer,col_indexer] = value instead\n",
      "\n",
      "See the caveats in the documentation: https://pandas.pydata.org/pandas-docs/stable/user_guide/indexing.html#returning-a-view-versus-a-copy\n",
      "  df1['Analysis'] = df1['Analysis'].str.lower()\n"
     ]
    }
   ],
   "source": [
    "df1['Analysis'] = df1['Analysis'].str.lower()"
   ]
  },
  {
   "cell_type": "code",
   "execution_count": 193,
   "metadata": {},
   "outputs": [
    {
     "name": "stderr",
     "output_type": "stream",
     "text": [
      "<ipython-input-193-b37436583bf6>:1: SettingWithCopyWarning: \n",
      "A value is trying to be set on a copy of a slice from a DataFrame.\n",
      "Try using .loc[row_indexer,col_indexer] = value instead\n",
      "\n",
      "See the caveats in the documentation: https://pandas.pydata.org/pandas-docs/stable/user_guide/indexing.html#returning-a-view-versus-a-copy\n",
      "  df1['Analysis'] = df1['Analysis'].str.replace(pat =r'\\W+', repl = ' ', regex = True)\n"
     ]
    },
    {
     "data": {
      "text/plain": [
       "'beautiful faisalmasjid islamabad but visitors are ruining its beauty with throwing trash everywhere environmentawareness savetheplanet stoplittering keepislamabadclean https t co tsg6tit77i'"
      ]
     },
     "execution_count": 193,
     "metadata": {},
     "output_type": "execute_result"
    }
   ],
   "source": [
    "df1['Analysis'] = df1['Analysis'].str.replace(pat =r'\\W+', repl = ' ', regex = True)"
   ]
  },
  {
   "cell_type": "code",
   "execution_count": 197,
   "metadata": {},
   "outputs": [
    {
     "name": "stderr",
     "output_type": "stream",
     "text": [
      "<ipython-input-197-2cd036b1207d>:1: SettingWithCopyWarning: \n",
      "A value is trying to be set on a copy of a slice from a DataFrame.\n",
      "Try using .loc[row_indexer,col_indexer] = value instead\n",
      "\n",
      "See the caveats in the documentation: https://pandas.pydata.org/pandas-docs/stable/user_guide/indexing.html#returning-a-view-versus-a-copy\n",
      "  df1 ['Analysis'] = df1['Analysis'].str.replace(pat = r'\\d+', repl = ' ', regex= True)\n"
     ]
    }
   ],
   "source": [
    "df1 ['Analysis'] = df1['Analysis'].str.replace(pat = r'\\d+', repl = ' ', regex= True)"
   ]
  },
  {
   "cell_type": "code",
   "execution_count": 202,
   "metadata": {},
   "outputs": [
    {
     "data": {
      "text/plain": [
       "'beautiful faisalmasjid islamabad but visitors are ruining its beauty with throwing trash everywhere environmentawareness savetheplanet stoplittering keepislamabadclean https t co tsg tit i'"
      ]
     },
     "execution_count": 202,
     "metadata": {},
     "output_type": "execute_result"
    }
   ],
   "source": [
    "df1['Analysis'][0]"
   ]
  },
  {
   "cell_type": "code",
   "execution_count": 200,
   "metadata": {},
   "outputs": [
    {
     "name": "stderr",
     "output_type": "stream",
     "text": [
      "[nltk_data] Downloading package punkt to\n",
      "[nltk_data]     C:\\Users\\Nikhi\\AppData\\Roaming\\nltk_data...\n",
      "[nltk_data]   Package punkt is already up-to-date!\n"
     ]
    },
    {
     "data": {
      "text/plain": [
       "True"
      ]
     },
     "execution_count": 200,
     "metadata": {},
     "output_type": "execute_result"
    }
   ],
   "source": [
    "import nltk\n",
    "nltk.download('punkt')"
   ]
  },
  {
   "cell_type": "code",
   "execution_count": 201,
   "metadata": {},
   "outputs": [
    {
     "name": "stderr",
     "output_type": "stream",
     "text": [
      "[nltk_data] Downloading package stopwords to\n",
      "[nltk_data]     C:\\Users\\Nikhi\\AppData\\Roaming\\nltk_data...\n",
      "[nltk_data]   Package stopwords is already up-to-date!\n"
     ]
    }
   ],
   "source": [
    "from nltk.corpus import stopwords\n",
    "nltk.download('stopwords')\n",
    "from nltk.tokenize import word_tokenize"
   ]
  },
  {
   "cell_type": "code",
   "execution_count": 212,
   "metadata": {},
   "outputs": [],
   "source": [
    "all_stopwords = stopwords.words('english')\n",
    "all_stopwords.extend(['ma','this', 'https','tit', 'tsg', 'co', 'rt'])"
   ]
  },
  {
   "cell_type": "code",
   "execution_count": 204,
   "metadata": {},
   "outputs": [],
   "source": [
    "testing_ = df1['Analysis']"
   ]
  },
  {
   "cell_type": "code",
   "execution_count": 206,
   "metadata": {},
   "outputs": [
    {
     "data": {
      "text/plain": [
       "0       beautiful faisalmasjid islamabad but visitors ...\n",
       "1       rt clubtrp o dear humans we are on the brink o...\n",
       "2       check out our ecofriendly phone cases   biodeg...\n",
       "3       some lovely alternatives to sending the tradit...\n",
       "4       rt clubtrp o dear humans we are on the brink o...\n",
       "                              ...                        \n",
       "3236                                                  NaN\n",
       "3237                                                  NaN\n",
       "3238                                                  NaN\n",
       "3239                                                  NaN\n",
       "3240                                                  NaN\n",
       "Name: Analysis, Length: 3241, dtype: object"
      ]
     },
     "execution_count": 206,
     "metadata": {},
     "output_type": "execute_result"
    }
   ],
   "source": [
    "testing_"
   ]
  },
  {
   "cell_type": "code",
   "execution_count": 213,
   "metadata": {},
   "outputs": [
    {
     "data": {
      "text/plain": [
       "['beautiful',\n",
       " 'faisalmasjid',\n",
       " 'islamabad',\n",
       " 'visitors',\n",
       " 'ruining',\n",
       " 'beauty',\n",
       " 'throwing',\n",
       " 'trash',\n",
       " 'everywhere',\n",
       " 'environmentawareness',\n",
       " 'savetheplanet',\n",
       " 'stoplittering',\n",
       " 'keepislamabadclean']"
      ]
     },
     "execution_count": 213,
     "metadata": {},
     "output_type": "execute_result"
    }
   ],
   "source": [
    "# tokenizing the words\n",
    "test_ = []\n",
    "for i in testing_:\n",
    "   try:\n",
    "    text_tokens = word_tokenize(i, language = \"english\")\n",
    "    tokens_without_sw = [word for word in text_tokens if not word in all_stopwords]\n",
    "    test_.append(tokens_without_sw)\n",
    "   except TypeError:\n",
    "       test_.append('None')\n",
    "test_[0]"
   ]
  },
  {
   "cell_type": "code",
   "execution_count": 214,
   "metadata": {},
   "outputs": [
    {
     "name": "stderr",
     "output_type": "stream",
     "text": [
      "<ipython-input-214-efe4299f184e>:6: SettingWithCopyWarning: \n",
      "A value is trying to be set on a copy of a slice from a DataFrame.\n",
      "Try using .loc[row_indexer,col_indexer] = value instead\n",
      "\n",
      "See the caveats in the documentation: https://pandas.pydata.org/pandas-docs/stable/user_guide/indexing.html#returning-a-view-versus-a-copy\n",
      "  df1['Analysis'] = test_\n"
     ]
    }
   ],
   "source": [
    "# now combine all the words into a single sentence by using the 'join' function\n",
    "\n",
    "for i in range(len(test_)):\n",
    "    test_[i] = \" \".join(test_[i]) #here this part of the code will join all the words together\n",
    "\n",
    "df1['Analysis'] = test_"
   ]
  },
  {
   "cell_type": "code",
   "execution_count": 216,
   "metadata": {},
   "outputs": [
    {
     "data": {
      "text/html": [
       "<div>\n",
       "<style scoped>\n",
       "    .dataframe tbody tr th:only-of-type {\n",
       "        vertical-align: middle;\n",
       "    }\n",
       "\n",
       "    .dataframe tbody tr th {\n",
       "        vertical-align: top;\n",
       "    }\n",
       "\n",
       "    .dataframe thead th {\n",
       "        text-align: right;\n",
       "    }\n",
       "</style>\n",
       "<table border=\"1\" class=\"dataframe\">\n",
       "  <thead>\n",
       "    <tr style=\"text-align: right;\">\n",
       "      <th></th>\n",
       "      <th>created_at</th>\n",
       "      <th>user_id</th>\n",
       "      <th>tweet</th>\n",
       "      <th>device_type</th>\n",
       "      <th>location</th>\n",
       "      <th>followers_count</th>\n",
       "      <th>friends_count</th>\n",
       "      <th>favourites_count</th>\n",
       "      <th>Analysis</th>\n",
       "    </tr>\n",
       "  </thead>\n",
       "  <tbody>\n",
       "    <tr>\n",
       "      <th>0</th>\n",
       "      <td>2021-11-24 11:08:47+00:00</td>\n",
       "      <td>1463464609147498507</td>\n",
       "      <td>Beautiful 💝💝 #FaisalMasjid #Islamabad but visi...</td>\n",
       "      <td>Android</td>\n",
       "      <td>Islamabad, Pakistan</td>\n",
       "      <td>77752</td>\n",
       "      <td>2147</td>\n",
       "      <td>118675</td>\n",
       "      <td>beautiful faisalmasjid islamabad visitors ruin...</td>\n",
       "    </tr>\n",
       "    <tr>\n",
       "      <th>1</th>\n",
       "      <td>2021-11-28 18:41:24+00:00</td>\n",
       "      <td>1465028067705999360</td>\n",
       "      <td>RT @ClubTrp: O dear humans! We are on the brin...</td>\n",
       "      <td>Web App</td>\n",
       "      <td>Climate Live</td>\n",
       "      <td>246</td>\n",
       "      <td>281</td>\n",
       "      <td>2502</td>\n",
       "      <td>clubtrp dear humans brink boiling point right ...</td>\n",
       "    </tr>\n",
       "  </tbody>\n",
       "</table>\n",
       "</div>"
      ],
      "text/plain": [
       "                 created_at              user_id  \\\n",
       "0 2021-11-24 11:08:47+00:00  1463464609147498507   \n",
       "1 2021-11-28 18:41:24+00:00  1465028067705999360   \n",
       "\n",
       "                                               tweet device_type  \\\n",
       "0  Beautiful 💝💝 #FaisalMasjid #Islamabad but visi...     Android   \n",
       "1  RT @ClubTrp: O dear humans! We are on the brin...     Web App   \n",
       "\n",
       "              location  followers_count  friends_count  favourites_count  \\\n",
       "0  Islamabad, Pakistan            77752           2147            118675   \n",
       "1         Climate Live              246            281              2502   \n",
       "\n",
       "                                            Analysis  \n",
       "0  beautiful faisalmasjid islamabad visitors ruin...  \n",
       "1  clubtrp dear humans brink boiling point right ...  "
      ]
     },
     "execution_count": 216,
     "metadata": {},
     "output_type": "execute_result"
    }
   ],
   "source": [
    "df1.head(2)"
   ]
  },
  {
   "cell_type": "markdown",
   "metadata": {},
   "source": [
    "## __Sentiment Analysis__\n",
    "\n",
    "- ### The sentiment property returns a namedtuple of the form Sentiment(polarity, subjectivity).\n",
    "- ### The polarity score is a float within the range [-1.0, 1.0]. The subjectivity is a float within the range [0.0, 1.0]\n",
    "- ### where 0.0 is very objective (non-friendly) and 1.0 is very subjective (normal or friendly).\n",
    "\n",
    "## __textblob__\n",
    "\n",
    "- ### It is commonly used library in NLP (natural language processing) to identify the subjective of the matter\n",
    "- ### [link for explaination]('https://www.analyticsvidhya.com/blog/2018/02/natural-language-processing-for-beginners-using-textblob/')\n",
    "- ### [link for library]('https://textblob.readthedocs.io/en/dev/quickstart.html')\n",
    "- ### [What is polarity and subjectivity in sentiment analysis?]('https://www.quora.com/What-is-polarity-and-subjectivity-in-sentiment-analysis')\n",
    "    - ### Polarity: It simply means emotions expressed in a sentence. Emotions are closely related to sentiments. The strength of a sentiment or opinion is typically linked to the intensity of certain emotions, e.g., joy and anger. Opinions in sentiment analysis are mostly evaluations(although not always).\n",
    "    - ### Polarity example: For example, the following sentences express emotional evaluations: “I love iPhone,” “I am so angry with their service people” and “This is the best car ever built.” To make use of these two types of evaluations in practice, we can design 5 sentiment ratings, emotional negative (-2), rational negative (-1), neutral (0), rational positive (+1), and emotional positive (+2). In practice, neutral often means no opinion or sentiment expressed.\n",
    "    - ### Subjectivity: Subjective sentence expresses some personal feelings, views, or beliefs. For an example:- subjective sentence is “I like iPhone.” Subjective expressions come in many forms, e.g., opinions, allegations, desires, beliefs, suspicions, and speculations. For example, “I think that he went home” and “I want a camera that can take good photos” are a subjective sentences, but does not express any sentiment."
   ]
  },
  {
   "cell_type": "code",
   "execution_count": 217,
   "metadata": {},
   "outputs": [
    {
     "name": "stdout",
     "output_type": "stream",
     "text": [
      "Collecting textblob\n",
      "  Downloading textblob-0.17.1-py2.py3-none-any.whl (636 kB)\n",
      "Requirement already satisfied: nltk>=3.1 in c:\\users\\nikhi\\appdata\\roaming\\python\\python38\\site-packages (from textblob) (3.6.5)\n",
      "Requirement already satisfied: joblib in d:\\anaconda\\lib\\site-packages (from nltk>=3.1->textblob) (1.0.1)\n",
      "Requirement already satisfied: regex>=2021.8.3 in c:\\users\\nikhi\\appdata\\roaming\\python\\python38\\site-packages (from nltk>=3.1->textblob) (2021.11.1)\n",
      "Requirement already satisfied: click in d:\\anaconda\\lib\\site-packages (from nltk>=3.1->textblob) (7.1.2)\n",
      "Requirement already satisfied: tqdm in d:\\anaconda\\lib\\site-packages (from nltk>=3.1->textblob) (4.59.0)\n",
      "Installing collected packages: textblob\n",
      "Successfully installed textblob-0.17.1\n"
     ]
    }
   ],
   "source": [
    "!pip install -U textblob"
   ]
  },
  {
   "cell_type": "code",
   "execution_count": 220,
   "metadata": {},
   "outputs": [
    {
     "data": {
      "text/plain": [
       "'beautiful faisalmasjid islamabad visitors ruining beauty throwing trash everywhere environmentawareness savetheplanet stoplittering keepislamabadclean'"
      ]
     },
     "execution_count": 220,
     "metadata": {},
     "output_type": "execute_result"
    }
   ],
   "source": [
    "df1['Analysis'][0]"
   ]
  },
  {
   "cell_type": "code",
   "execution_count": 224,
   "metadata": {},
   "outputs": [],
   "source": [
    "anay_ = df1['Analysis']"
   ]
  },
  {
   "cell_type": "code",
   "execution_count": 244,
   "metadata": {},
   "outputs": [],
   "source": [
    "from textblob import TextBlob\n",
    "subjectivity_score = []\n",
    "polarity_score = []\n",
    "for i in anay_:\n",
    "    testimonial = TextBlob(i)\n",
    "    subjectivity_score.append(round(testimonial.sentiment.subjectivity))\n",
    "    polarity_score.append(round(testimonial.sentiment.polarity))"
   ]
  },
  {
   "cell_type": "code",
   "execution_count": 246,
   "metadata": {},
   "outputs": [
    {
     "name": "stderr",
     "output_type": "stream",
     "text": [
      "<ipython-input-246-b79a5752d534>:1: SettingWithCopyWarning: \n",
      "A value is trying to be set on a copy of a slice from a DataFrame.\n",
      "Try using .loc[row_indexer,col_indexer] = value instead\n",
      "\n",
      "See the caveats in the documentation: https://pandas.pydata.org/pandas-docs/stable/user_guide/indexing.html#returning-a-view-versus-a-copy\n",
      "  df1['subjectivity_score'] = subjectivity_score\n"
     ]
    }
   ],
   "source": [
    "df1['subjectivity_score'] = subjectivity_score"
   ]
  },
  {
   "cell_type": "code",
   "execution_count": 247,
   "metadata": {},
   "outputs": [
    {
     "data": {
      "text/plain": [
       "0    3194\n",
       "1      47\n",
       "Name: subjectivity_score, dtype: int64"
      ]
     },
     "execution_count": 247,
     "metadata": {},
     "output_type": "execute_result"
    }
   ],
   "source": [
    "df1['subjectivity_score'].value_counts()"
   ]
  },
  {
   "cell_type": "code",
   "execution_count": 275,
   "metadata": {},
   "outputs": [
    {
     "name": "stderr",
     "output_type": "stream",
     "text": [
      "<ipython-input-275-6f65d3e5c059>:1: SettingWithCopyWarning: \n",
      "A value is trying to be set on a copy of a slice from a DataFrame.\n",
      "Try using .loc[row_indexer,col_indexer] = value instead\n",
      "\n",
      "See the caveats in the documentation: https://pandas.pydata.org/pandas-docs/stable/user_guide/indexing.html#returning-a-view-versus-a-copy\n",
      "  df1['Analysis'] = df1['Analysis'].str.replace(pat = 'N n e', repl = 'NaN')\n"
     ]
    }
   ],
   "source": [
    "df1['Analysis'] = df1['Analysis'].str.replace(pat = 'N n e', repl = 'NaN')"
   ]
  },
  {
   "cell_type": "code",
   "execution_count": 279,
   "metadata": {},
   "outputs": [
    {
     "data": {
      "text/html": [
       "<div>\n",
       "<style scoped>\n",
       "    .dataframe tbody tr th:only-of-type {\n",
       "        vertical-align: middle;\n",
       "    }\n",
       "\n",
       "    .dataframe tbody tr th {\n",
       "        vertical-align: top;\n",
       "    }\n",
       "\n",
       "    .dataframe thead th {\n",
       "        text-align: right;\n",
       "    }\n",
       "</style>\n",
       "<table border=\"1\" class=\"dataframe\">\n",
       "  <thead>\n",
       "    <tr style=\"text-align: right;\">\n",
       "      <th></th>\n",
       "      <th>created_at</th>\n",
       "      <th>user_id</th>\n",
       "      <th>tweet</th>\n",
       "      <th>device_type</th>\n",
       "      <th>location</th>\n",
       "      <th>followers_count</th>\n",
       "      <th>friends_count</th>\n",
       "      <th>favourites_count</th>\n",
       "      <th>Analysis</th>\n",
       "      <th>subjectivity_score</th>\n",
       "    </tr>\n",
       "  </thead>\n",
       "  <tbody>\n",
       "    <tr>\n",
       "      <th>0</th>\n",
       "      <td>2021-11-24 11:08:47+00:00</td>\n",
       "      <td>1463464609147498507</td>\n",
       "      <td>Beautiful 💝💝 #FaisalMasjid #Islamabad but visi...</td>\n",
       "      <td>Android</td>\n",
       "      <td>Islamabad, Pakistan</td>\n",
       "      <td>77752</td>\n",
       "      <td>2147</td>\n",
       "      <td>118675</td>\n",
       "      <td>beautiful faisalmasjid islamabad visitors ruin...</td>\n",
       "      <td>1</td>\n",
       "    </tr>\n",
       "    <tr>\n",
       "      <th>1</th>\n",
       "      <td>2021-11-28 18:41:24+00:00</td>\n",
       "      <td>1465028067705999360</td>\n",
       "      <td>RT @ClubTrp: O dear humans! We are on the brin...</td>\n",
       "      <td>Web App</td>\n",
       "      <td>Climate Live</td>\n",
       "      <td>246</td>\n",
       "      <td>281</td>\n",
       "      <td>2502</td>\n",
       "      <td>clubtrp dear humans brink boiling point right ...</td>\n",
       "      <td>1</td>\n",
       "    </tr>\n",
       "    <tr>\n",
       "      <th>2</th>\n",
       "      <td>2021-11-28 18:36:45+00:00</td>\n",
       "      <td>1465026896014553088</td>\n",
       "      <td>Check out our #ecofriendly phone cases! 100% b...</td>\n",
       "      <td>iPhone</td>\n",
       "      <td></td>\n",
       "      <td>99</td>\n",
       "      <td>616</td>\n",
       "      <td>42</td>\n",
       "      <td>check ecofriendly phone cases biodegradable de...</td>\n",
       "      <td>1</td>\n",
       "    </tr>\n",
       "    <tr>\n",
       "      <th>3</th>\n",
       "      <td>2021-11-28 18:36:06+00:00</td>\n",
       "      <td>1465026730360549380</td>\n",
       "      <td>Some lovely alternatives to sending the tradit...</td>\n",
       "      <td>iPhone</td>\n",
       "      <td></td>\n",
       "      <td>1018</td>\n",
       "      <td>989</td>\n",
       "      <td>9891</td>\n",
       "      <td>lovely alternatives sending traditional christ...</td>\n",
       "      <td>1</td>\n",
       "    </tr>\n",
       "    <tr>\n",
       "      <th>4</th>\n",
       "      <td>2021-11-28 18:35:23+00:00</td>\n",
       "      <td>1465026551368531976</td>\n",
       "      <td>RT @ClubTrp: O dear humans! We are on the brin...</td>\n",
       "      <td>Web App</td>\n",
       "      <td>Brasil</td>\n",
       "      <td>1214</td>\n",
       "      <td>1646</td>\n",
       "      <td>30310</td>\n",
       "      <td>clubtrp dear humans brink boiling point right ...</td>\n",
       "      <td>1</td>\n",
       "    </tr>\n",
       "    <tr>\n",
       "      <th>...</th>\n",
       "      <td>...</td>\n",
       "      <td>...</td>\n",
       "      <td>...</td>\n",
       "      <td>...</td>\n",
       "      <td>...</td>\n",
       "      <td>...</td>\n",
       "      <td>...</td>\n",
       "      <td>...</td>\n",
       "      <td>...</td>\n",
       "      <td>...</td>\n",
       "    </tr>\n",
       "    <tr>\n",
       "      <th>3235</th>\n",
       "      <td>2021-11-20 01:12:39+00:00</td>\n",
       "      <td>1461865034796220417</td>\n",
       "      <td>NaN</td>\n",
       "      <td>Bot</td>\n",
       "      <td>Earth 🌏</td>\n",
       "      <td>1482</td>\n",
       "      <td>1</td>\n",
       "      <td>146</td>\n",
       "      <td>NaN</td>\n",
       "      <td>0</td>\n",
       "    </tr>\n",
       "    <tr>\n",
       "      <th>3236</th>\n",
       "      <td>2021-11-20 01:12:33+00:00</td>\n",
       "      <td>1461865013275238403</td>\n",
       "      <td>NaN</td>\n",
       "      <td>Bot</td>\n",
       "      <td>Earth 🌏</td>\n",
       "      <td>1482</td>\n",
       "      <td>1</td>\n",
       "      <td>146</td>\n",
       "      <td>NaN</td>\n",
       "      <td>0</td>\n",
       "    </tr>\n",
       "    <tr>\n",
       "      <th>3237</th>\n",
       "      <td>2021-11-20 01:12:28+00:00</td>\n",
       "      <td>1461864991745789954</td>\n",
       "      <td>NaN</td>\n",
       "      <td>Bot</td>\n",
       "      <td>Earth 🌏</td>\n",
       "      <td>1482</td>\n",
       "      <td>1</td>\n",
       "      <td>146</td>\n",
       "      <td>NaN</td>\n",
       "      <td>0</td>\n",
       "    </tr>\n",
       "    <tr>\n",
       "      <th>3238</th>\n",
       "      <td>2021-11-20 01:03:17+00:00</td>\n",
       "      <td>1461862678054551554</td>\n",
       "      <td>NaN</td>\n",
       "      <td>iPhone</td>\n",
       "      <td></td>\n",
       "      <td>254</td>\n",
       "      <td>263</td>\n",
       "      <td>8072</td>\n",
       "      <td>NaN</td>\n",
       "      <td>0</td>\n",
       "    </tr>\n",
       "    <tr>\n",
       "      <th>3240</th>\n",
       "      <td>2021-11-20 00:47:15+00:00</td>\n",
       "      <td>1461858642458656768</td>\n",
       "      <td>NaN</td>\n",
       "      <td>Android</td>\n",
       "      <td></td>\n",
       "      <td>1580</td>\n",
       "      <td>808</td>\n",
       "      <td>52152</td>\n",
       "      <td>NaN</td>\n",
       "      <td>0</td>\n",
       "    </tr>\n",
       "  </tbody>\n",
       "</table>\n",
       "<p>2443 rows × 10 columns</p>\n",
       "</div>"
      ],
      "text/plain": [
       "                    created_at              user_id  \\\n",
       "0    2021-11-24 11:08:47+00:00  1463464609147498507   \n",
       "1    2021-11-28 18:41:24+00:00  1465028067705999360   \n",
       "2    2021-11-28 18:36:45+00:00  1465026896014553088   \n",
       "3    2021-11-28 18:36:06+00:00  1465026730360549380   \n",
       "4    2021-11-28 18:35:23+00:00  1465026551368531976   \n",
       "...                        ...                  ...   \n",
       "3235 2021-11-20 01:12:39+00:00  1461865034796220417   \n",
       "3236 2021-11-20 01:12:33+00:00  1461865013275238403   \n",
       "3237 2021-11-20 01:12:28+00:00  1461864991745789954   \n",
       "3238 2021-11-20 01:03:17+00:00  1461862678054551554   \n",
       "3240 2021-11-20 00:47:15+00:00  1461858642458656768   \n",
       "\n",
       "                                                  tweet device_type  \\\n",
       "0     Beautiful 💝💝 #FaisalMasjid #Islamabad but visi...     Android   \n",
       "1     RT @ClubTrp: O dear humans! We are on the brin...     Web App   \n",
       "2     Check out our #ecofriendly phone cases! 100% b...      iPhone   \n",
       "3     Some lovely alternatives to sending the tradit...      iPhone   \n",
       "4     RT @ClubTrp: O dear humans! We are on the brin...     Web App   \n",
       "...                                                 ...         ...   \n",
       "3235                                                NaN         Bot   \n",
       "3236                                                NaN         Bot   \n",
       "3237                                                NaN         Bot   \n",
       "3238                                                NaN      iPhone   \n",
       "3240                                                NaN     Android   \n",
       "\n",
       "                 location  followers_count  friends_count  favourites_count  \\\n",
       "0     Islamabad, Pakistan            77752           2147            118675   \n",
       "1            Climate Live              246            281              2502   \n",
       "2                                       99            616                42   \n",
       "3                                     1018            989              9891   \n",
       "4                  Brasil             1214           1646             30310   \n",
       "...                   ...              ...            ...               ...   \n",
       "3235              Earth 🌏             1482              1               146   \n",
       "3236              Earth 🌏             1482              1               146   \n",
       "3237              Earth 🌏             1482              1               146   \n",
       "3238                                   254            263              8072   \n",
       "3240                                  1580            808             52152   \n",
       "\n",
       "                                               Analysis  subjectivity_score  \n",
       "0     beautiful faisalmasjid islamabad visitors ruin...                   1  \n",
       "1     clubtrp dear humans brink boiling point right ...                   1  \n",
       "2     check ecofriendly phone cases biodegradable de...                   1  \n",
       "3     lovely alternatives sending traditional christ...                   1  \n",
       "4     clubtrp dear humans brink boiling point right ...                   1  \n",
       "...                                                 ...                 ...  \n",
       "3235                                                NaN                   0  \n",
       "3236                                                NaN                   0  \n",
       "3237                                                NaN                   0  \n",
       "3238                                                NaN                   0  \n",
       "3240                                                NaN                   0  \n",
       "\n",
       "[2443 rows x 10 columns]"
      ]
     },
     "execution_count": 279,
     "metadata": {},
     "output_type": "execute_result"
    }
   ],
   "source": [
    "df1.dropna(thresh = 9)"
   ]
  },
  {
   "cell_type": "code",
   "execution_count": 61,
   "metadata": {},
   "outputs": [
    {
     "name": "stdout",
     "output_type": "stream",
     "text": [
      "created_at\n",
      "id\n",
      "id_str\n",
      "full_text\n",
      "truncated\n",
      "display_text_range\n",
      "source\n",
      "in_reply_to_status_id\n",
      "in_reply_to_status_id_str\n",
      "in_reply_to_user_id\n",
      "in_reply_to_user_id_str\n",
      "in_reply_to_screen_name\n",
      "geo\n",
      "coordinates\n",
      "place\n",
      "contributors\n",
      "is_quote_status\n",
      "retweet_count\n",
      "favorite_count\n",
      "favorited\n",
      "retweeted\n",
      "possibly_sensitive\n",
      "lang\n",
      "entities.hashtags\n",
      "entities.symbols\n",
      "entities.user_mentions\n",
      "entities.urls\n",
      "entities.media\n",
      "extended_entities.media\n",
      "metadata.result_type\n",
      "metadata.iso_language_code\n",
      "user.id\n",
      "user.id_str\n",
      "user.name\n",
      "user.screen_name\n",
      "user.location\n",
      "user.description\n",
      "user.url\n",
      "user.entities.url.urls\n",
      "user.entities.description.urls\n",
      "user.protected\n",
      "user.followers_count\n",
      "user.friends_count\n",
      "user.listed_count\n",
      "user.created_at\n",
      "user.favourites_count\n",
      "user.utc_offset\n",
      "user.time_zone\n",
      "user.geo_enabled\n",
      "user.verified\n",
      "user.statuses_count\n",
      "user.lang\n",
      "user.contributors_enabled\n",
      "user.is_translator\n",
      "user.is_translation_enabled\n",
      "user.profile_background_color\n",
      "user.profile_background_image_url\n",
      "user.profile_background_image_url_https\n",
      "user.profile_background_tile\n",
      "user.profile_image_url\n",
      "user.profile_image_url_https\n",
      "user.profile_banner_url\n",
      "user.profile_link_color\n",
      "user.profile_sidebar_border_color\n",
      "user.profile_sidebar_fill_color\n",
      "user.profile_text_color\n",
      "user.profile_use_background_image\n",
      "user.has_extended_profile\n",
      "user.default_profile\n",
      "user.default_profile_image\n",
      "user.following\n",
      "user.follow_request_sent\n",
      "user.notifications\n",
      "user.translator_type\n",
      "user.withheld_in_countries\n",
      "quoted_status_id\n",
      "quoted_status_id_str\n",
      "retweeted_status.created_at\n",
      "retweeted_status.id\n",
      "retweeted_status.id_str\n",
      "retweeted_status.full_text\n",
      "retweeted_status.truncated\n",
      "retweeted_status.display_text_range\n",
      "retweeted_status.entities.hashtags\n",
      "retweeted_status.entities.symbols\n",
      "retweeted_status.entities.user_mentions\n",
      "retweeted_status.entities.urls\n",
      "retweeted_status.metadata.iso_language_code\n",
      "retweeted_status.metadata.result_type\n",
      "retweeted_status.source\n",
      "retweeted_status.in_reply_to_status_id\n",
      "retweeted_status.in_reply_to_status_id_str\n",
      "retweeted_status.in_reply_to_user_id\n",
      "retweeted_status.in_reply_to_user_id_str\n",
      "retweeted_status.in_reply_to_screen_name\n",
      "retweeted_status.user.id\n",
      "retweeted_status.user.id_str\n",
      "retweeted_status.user.name\n",
      "retweeted_status.user.screen_name\n",
      "retweeted_status.user.location\n",
      "retweeted_status.user.description\n",
      "retweeted_status.user.url\n",
      "retweeted_status.user.entities.url.urls\n",
      "retweeted_status.user.entities.description.urls\n",
      "retweeted_status.user.protected\n",
      "retweeted_status.user.followers_count\n",
      "retweeted_status.user.friends_count\n",
      "retweeted_status.user.listed_count\n",
      "retweeted_status.user.created_at\n",
      "retweeted_status.user.favourites_count\n",
      "retweeted_status.user.utc_offset\n",
      "retweeted_status.user.time_zone\n",
      "retweeted_status.user.geo_enabled\n",
      "retweeted_status.user.verified\n",
      "retweeted_status.user.statuses_count\n",
      "retweeted_status.user.lang\n",
      "retweeted_status.user.contributors_enabled\n",
      "retweeted_status.user.is_translator\n",
      "retweeted_status.user.is_translation_enabled\n",
      "retweeted_status.user.profile_background_color\n",
      "retweeted_status.user.profile_background_image_url\n",
      "retweeted_status.user.profile_background_image_url_https\n",
      "retweeted_status.user.profile_background_tile\n",
      "retweeted_status.user.profile_image_url\n",
      "retweeted_status.user.profile_image_url_https\n",
      "retweeted_status.user.profile_banner_url\n",
      "retweeted_status.user.profile_link_color\n",
      "retweeted_status.user.profile_sidebar_border_color\n",
      "retweeted_status.user.profile_sidebar_fill_color\n",
      "retweeted_status.user.profile_text_color\n",
      "retweeted_status.user.profile_use_background_image\n",
      "retweeted_status.user.has_extended_profile\n",
      "retweeted_status.user.default_profile\n",
      "retweeted_status.user.default_profile_image\n",
      "retweeted_status.user.following\n",
      "retweeted_status.user.follow_request_sent\n",
      "retweeted_status.user.notifications\n",
      "retweeted_status.user.translator_type\n",
      "retweeted_status.user.withheld_in_countries\n",
      "retweeted_status.geo\n",
      "retweeted_status.coordinates\n",
      "retweeted_status.place\n",
      "retweeted_status.contributors\n",
      "retweeted_status.is_quote_status\n",
      "retweeted_status.quoted_status_id\n",
      "retweeted_status.quoted_status_id_str\n",
      "retweeted_status.quoted_status.created_at\n",
      "retweeted_status.quoted_status.id\n",
      "retweeted_status.quoted_status.id_str\n",
      "retweeted_status.quoted_status.full_text\n",
      "retweeted_status.quoted_status.truncated\n",
      "retweeted_status.quoted_status.display_text_range\n",
      "retweeted_status.quoted_status.entities.hashtags\n",
      "retweeted_status.quoted_status.entities.symbols\n",
      "retweeted_status.quoted_status.entities.user_mentions\n",
      "retweeted_status.quoted_status.entities.urls\n",
      "retweeted_status.quoted_status.entities.media\n",
      "retweeted_status.quoted_status.extended_entities.media\n",
      "retweeted_status.quoted_status.metadata.iso_language_code\n",
      "retweeted_status.quoted_status.metadata.result_type\n",
      "retweeted_status.quoted_status.source\n",
      "retweeted_status.quoted_status.in_reply_to_status_id\n",
      "retweeted_status.quoted_status.in_reply_to_status_id_str\n",
      "retweeted_status.quoted_status.in_reply_to_user_id\n",
      "retweeted_status.quoted_status.in_reply_to_user_id_str\n",
      "retweeted_status.quoted_status.in_reply_to_screen_name\n",
      "retweeted_status.quoted_status.user.id\n",
      "retweeted_status.quoted_status.user.id_str\n",
      "retweeted_status.quoted_status.user.name\n",
      "retweeted_status.quoted_status.user.screen_name\n",
      "retweeted_status.quoted_status.user.location\n",
      "retweeted_status.quoted_status.user.description\n",
      "retweeted_status.quoted_status.user.url\n",
      "retweeted_status.quoted_status.user.entities.url.urls\n",
      "retweeted_status.quoted_status.user.entities.description.urls\n",
      "retweeted_status.quoted_status.user.protected\n",
      "retweeted_status.quoted_status.user.followers_count\n",
      "retweeted_status.quoted_status.user.friends_count\n",
      "retweeted_status.quoted_status.user.listed_count\n",
      "retweeted_status.quoted_status.user.created_at\n",
      "retweeted_status.quoted_status.user.favourites_count\n",
      "retweeted_status.quoted_status.user.utc_offset\n",
      "retweeted_status.quoted_status.user.time_zone\n",
      "retweeted_status.quoted_status.user.geo_enabled\n",
      "retweeted_status.quoted_status.user.verified\n",
      "retweeted_status.quoted_status.user.statuses_count\n",
      "retweeted_status.quoted_status.user.lang\n",
      "retweeted_status.quoted_status.user.contributors_enabled\n",
      "retweeted_status.quoted_status.user.is_translator\n",
      "retweeted_status.quoted_status.user.is_translation_enabled\n",
      "retweeted_status.quoted_status.user.profile_background_color\n",
      "retweeted_status.quoted_status.user.profile_background_image_url\n",
      "retweeted_status.quoted_status.user.profile_background_image_url_https\n",
      "retweeted_status.quoted_status.user.profile_background_tile\n",
      "retweeted_status.quoted_status.user.profile_image_url\n",
      "retweeted_status.quoted_status.user.profile_image_url_https\n",
      "retweeted_status.quoted_status.user.profile_banner_url\n",
      "retweeted_status.quoted_status.user.profile_link_color\n",
      "retweeted_status.quoted_status.user.profile_sidebar_border_color\n",
      "retweeted_status.quoted_status.user.profile_sidebar_fill_color\n",
      "retweeted_status.quoted_status.user.profile_text_color\n",
      "retweeted_status.quoted_status.user.profile_use_background_image\n",
      "retweeted_status.quoted_status.user.has_extended_profile\n",
      "retweeted_status.quoted_status.user.default_profile\n",
      "retweeted_status.quoted_status.user.default_profile_image\n",
      "retweeted_status.quoted_status.user.following\n",
      "retweeted_status.quoted_status.user.follow_request_sent\n",
      "retweeted_status.quoted_status.user.notifications\n",
      "retweeted_status.quoted_status.user.translator_type\n",
      "retweeted_status.quoted_status.user.withheld_in_countries\n",
      "retweeted_status.quoted_status.geo\n",
      "retweeted_status.quoted_status.coordinates\n",
      "retweeted_status.quoted_status.place\n",
      "retweeted_status.quoted_status.contributors\n",
      "retweeted_status.quoted_status.is_quote_status\n",
      "retweeted_status.quoted_status.retweet_count\n",
      "retweeted_status.quoted_status.favorite_count\n",
      "retweeted_status.quoted_status.favorited\n",
      "retweeted_status.quoted_status.retweeted\n",
      "retweeted_status.quoted_status.possibly_sensitive\n",
      "retweeted_status.quoted_status.lang\n",
      "retweeted_status.retweet_count\n",
      "retweeted_status.favorite_count\n",
      "retweeted_status.favorited\n",
      "retweeted_status.retweeted\n",
      "retweeted_status.possibly_sensitive\n",
      "retweeted_status.lang\n",
      "retweeted_status.entities.media\n",
      "retweeted_status.extended_entities.media\n",
      "retweeted_status.place.id\n",
      "retweeted_status.place.url\n",
      "retweeted_status.place.place_type\n",
      "retweeted_status.place.name\n",
      "retweeted_status.place.full_name\n",
      "retweeted_status.place.country_code\n",
      "retweeted_status.place.country\n",
      "retweeted_status.place.contained_within\n",
      "retweeted_status.place.bounding_box.type\n",
      "retweeted_status.place.bounding_box.coordinates\n",
      "text\n",
      "retweeted_status.text\n",
      "place.id\n",
      "place.url\n",
      "place.place_type\n",
      "place.name\n",
      "place.full_name\n",
      "place.country_code\n",
      "place.country\n",
      "place.contained_within\n",
      "place.bounding_box.type\n",
      "place.bounding_box.coordinates\n",
      "quoted_status.created_at\n",
      "quoted_status.id\n",
      "quoted_status.id_str\n",
      "quoted_status.text\n",
      "quoted_status.truncated\n",
      "quoted_status.entities.hashtags\n",
      "quoted_status.entities.symbols\n",
      "quoted_status.entities.user_mentions\n",
      "quoted_status.entities.urls\n",
      "quoted_status.metadata.iso_language_code\n",
      "quoted_status.metadata.result_type\n",
      "quoted_status.source\n",
      "quoted_status.in_reply_to_status_id\n",
      "quoted_status.in_reply_to_status_id_str\n",
      "quoted_status.in_reply_to_user_id\n",
      "quoted_status.in_reply_to_user_id_str\n",
      "quoted_status.in_reply_to_screen_name\n",
      "quoted_status.user.id\n",
      "quoted_status.user.id_str\n",
      "quoted_status.user.name\n",
      "quoted_status.user.screen_name\n",
      "quoted_status.user.location\n",
      "quoted_status.user.description\n",
      "quoted_status.user.url\n",
      "quoted_status.user.entities.url.urls\n",
      "quoted_status.user.entities.description.urls\n",
      "quoted_status.user.protected\n",
      "quoted_status.user.followers_count\n",
      "quoted_status.user.friends_count\n",
      "quoted_status.user.listed_count\n",
      "quoted_status.user.created_at\n",
      "quoted_status.user.favourites_count\n",
      "quoted_status.user.utc_offset\n",
      "quoted_status.user.time_zone\n",
      "quoted_status.user.geo_enabled\n",
      "quoted_status.user.verified\n",
      "quoted_status.user.statuses_count\n",
      "quoted_status.user.lang\n",
      "quoted_status.user.contributors_enabled\n",
      "quoted_status.user.is_translator\n",
      "quoted_status.user.is_translation_enabled\n",
      "quoted_status.user.profile_background_color\n",
      "quoted_status.user.profile_background_image_url\n",
      "quoted_status.user.profile_background_image_url_https\n",
      "quoted_status.user.profile_background_tile\n",
      "quoted_status.user.profile_image_url\n",
      "quoted_status.user.profile_image_url_https\n",
      "quoted_status.user.profile_banner_url\n",
      "quoted_status.user.profile_link_color\n",
      "quoted_status.user.profile_sidebar_border_color\n",
      "quoted_status.user.profile_sidebar_fill_color\n",
      "quoted_status.user.profile_text_color\n",
      "quoted_status.user.profile_use_background_image\n",
      "quoted_status.user.has_extended_profile\n",
      "quoted_status.user.default_profile\n",
      "quoted_status.user.default_profile_image\n",
      "quoted_status.user.following\n",
      "quoted_status.user.follow_request_sent\n",
      "quoted_status.user.notifications\n",
      "quoted_status.user.translator_type\n",
      "quoted_status.user.withheld_in_countries\n",
      "quoted_status.geo\n",
      "quoted_status.coordinates\n",
      "quoted_status.place\n",
      "quoted_status.contributors\n",
      "quoted_status.is_quote_status\n",
      "quoted_status.retweet_count\n",
      "quoted_status.favorite_count\n",
      "quoted_status.favorited\n",
      "quoted_status.retweeted\n",
      "quoted_status.possibly_sensitive\n",
      "quoted_status.lang\n",
      "retweeted_status.quoted_status.text\n",
      "retweeted_status.geo.type\n",
      "retweeted_status.geo.coordinates\n",
      "retweeted_status.coordinates.type\n",
      "retweeted_status.coordinates.coordinates\n",
      "geo.type\n",
      "geo.coordinates\n",
      "coordinates.type\n",
      "coordinates.coordinates\n",
      "retweeted_status.quoted_status.scopes.followers\n",
      "quoted_status.scopes.followers\n",
      "retweeted_status.quoted_status.quoted_status_id\n",
      "retweeted_status.quoted_status.quoted_status_id_str\n",
      "quoted_status.quoted_status_id\n",
      "quoted_status.quoted_status_id_str\n",
      "quoted_status.entities.media\n",
      "quoted_status.extended_entities.media\n",
      "retweeted_status.quoted_status.place.id\n",
      "retweeted_status.quoted_status.place.url\n",
      "retweeted_status.quoted_status.place.place_type\n",
      "retweeted_status.quoted_status.place.name\n",
      "retweeted_status.quoted_status.place.full_name\n",
      "retweeted_status.quoted_status.place.country_code\n",
      "retweeted_status.quoted_status.place.country\n",
      "retweeted_status.quoted_status.place.contained_within\n",
      "retweeted_status.quoted_status.place.bounding_box.type\n",
      "retweeted_status.quoted_status.place.bounding_box.coordinates\n",
      "quoted_status.place.id\n",
      "quoted_status.place.url\n",
      "quoted_status.place.place_type\n",
      "quoted_status.place.name\n",
      "quoted_status.place.full_name\n",
      "quoted_status.place.country_code\n",
      "quoted_status.place.country\n",
      "quoted_status.place.contained_within\n",
      "quoted_status.place.bounding_box.type\n",
      "quoted_status.place.bounding_box.coordinates\n"
     ]
    }
   ],
   "source": [
    "for i in df.columns:\n",
    "    print(i)"
   ]
  },
  {
   "cell_type": "code",
   "execution_count": null,
   "metadata": {},
   "outputs": [],
   "source": []
  }
 ],
 "metadata": {
  "interpreter": {
   "hash": "07efdcd4b820c98a756949507a4d29d7862823915ec7477944641bea022f4f62"
  },
  "kernelspec": {
   "display_name": "Python 3.8.8 64-bit ('base': conda)",
   "language": "python",
   "name": "python3"
  },
  "language_info": {
   "codemirror_mode": {
    "name": "ipython",
    "version": 3
   },
   "file_extension": ".py",
   "mimetype": "text/x-python",
   "name": "python",
   "nbconvert_exporter": "python",
   "pygments_lexer": "ipython3",
   "version": "3.8.8"
  },
  "orig_nbformat": 4
 },
 "nbformat": 4,
 "nbformat_minor": 2
}
